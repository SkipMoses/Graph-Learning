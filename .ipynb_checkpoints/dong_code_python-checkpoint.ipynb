{
 "cells": [
  {
   "cell_type": "code",
   "execution_count": 2,
   "id": "ee8dc570",
   "metadata": {},
   "outputs": [],
   "source": [
    "import numpy as np\n",
    "import numpy_groupies as npg"
   ]
  },
  {
   "cell_type": "markdown",
   "id": "a4f14aea",
   "metadata": {},
   "source": [
    "## Half Vectorization \n",
    "\n",
    "\n",
    "#### README.txt\n",
    "\n",
    "For a symmetric matrix A, A(:) (full \"vectorization\") contains more \n",
    "information than is strictly necessary, since the matrix is completely \n",
    "determined by the symmetry together with the lower triangular portion, \n",
    "that is, the n(n+1)/2 entries on and below the main diagonal. The \n",
    "half-vectorization, built as following with the package:\n",
    "\n",
    "A(itril(size(A))), \n",
    "of a symmetric n◊n matrix A is the n(n+1)/2 ◊ 1 column vector obtained by \n",
    "\"vectorizing\" only the lower triangular part of A.\n",
    "\n",
    "This package provides functions for conveniently indexing the triangular\n",
    "parts (both lower and upper) parts as well as the diagonals of the matrix.\n",
    "\n",
    "It also provides the so called Duplication and Elimination matrices which\n",
    "is used to convert between full and half-vectorization of the matrix.\n",
    "\n",
    "See: http://en.wikipedia.org/wiki/Vectorization_(mathematics)\n",
    "\n",
    "Please take a look at the script testprog.m to get an idea how the package\n",
    "works."
   ]
  },
  {
   "cell_type": "markdown",
   "id": "75b9a663",
   "metadata": {},
   "source": [
    "\n",
    "## itriu.m\n",
    "\n",
    "This function returns the subindices for extracting the upper/lower triangular part of a matrix. \n",
    "\n",
    "For example \n",
    "\n",
    "$A = \\begin{bmatrix}\n",
    "7&5&4\\\\\n",
    "4&2&3\\\\\n",
    "9&1&9\\\\\n",
    "3&5&7\n",
    "\\end{bmatrix}$\n",
    "\n",
    "then $I = itriu(size(A))$ returns $I = [1,5,6,9,10,11]$ and \n",
    "\n",
    "$A(I) = [7,5,2,4,3,9]$."
   ]
  },
  {
   "cell_type": "code",
   "execution_count": 81,
   "id": "ceef6c1f",
   "metadata": {},
   "outputs": [],
   "source": [
    "# Python implementation of sub2ind found here\n",
    "# https://stackoverflow.com/questions/28995146/matlab-ind2sub-equivalent-in-python\n",
    "def sub2ind(array_shape, rows, cols):\n",
    "    ind = rows*array_shape[1] + cols\n",
    "    ind[ind < 0] = -1\n",
    "    ind[ind >= array_shape[0]*array_shape[1]] = -1\n",
    "    return ind\n",
    "\n",
    "def itriu(sz, k = 0):\n",
    "    \n",
    "    # if isscalar(sz)\n",
    "        # sz = [sz sz];\n",
    "    # end\n",
    "    # m=sz(1);\n",
    "    # n=sz(2);\n",
    "    \n",
    "    # Python implementation\n",
    "    if np.isscalar(sz):\n",
    "        sz = [sz, sz]\n",
    "    m = sz[0]\n",
    "    n = sz[1]\n",
    "    \n",
    "    # Main Diagonal by default\n",
    "    # if nargin<2\n",
    "        # k=0;\n",
    "    # end\n",
    "    # This is taken care of with default argument k = 0\n",
    "    \n",
    "    # nc = n-max(k,0); % number of columns of the triangular part\n",
    "    \n",
    "    nc = n - max(k,0)\n",
    "    \n",
    "    # lo = ones(nc,1); % lower row indice for each column\n",
    "    \n",
    "    lo = [int(i) for i in np.ones(nc)]\n",
    "    print('lo is ' + str(lo))\n",
    "    \n",
    "    # hi = min((1:nc).'-min(k,0),m); % upper row indice for each column\n",
    "    \n",
    "    hi = [min(i - min(k,0), m) for i in range(1,nc+1)]\n",
    "    \n",
    "    print('hi is ' + str(hi))\n",
    "    # if isempty(lo)\n",
    "        # I = zeros(0,1);\n",
    "        # J = zeros(0,1);\n",
    "    \n",
    "    if len(lo) == 0: \n",
    "        I = []\n",
    "        J = []\n",
    "    \n",
    "    # else\n",
    "    \n",
    "    else:\n",
    "        \n",
    "        # c=cumsum([0; hi-lo]+1); % cumsum of the length\n",
    "        \n",
    "        temp = [1] + [hi[i] - lo[i] + 1 for i in range(len(hi))]\n",
    "        c = np.cumsum(temp)\n",
    "        print('c is ' + str(c))\n",
    "        \n",
    "        # I = accumarray(c(1:end-1), (lo-[0; hi(1:end-1)]-1), ... [c(end)-1 1]);\n",
    "        \n",
    "        temp = [0] + hi[:len(hi)-1]\n",
    "        \n",
    "        print('temp1 is ' + str(temp))\n",
    "        \n",
    "        I = npg.aggregate(c[0:len(c)-1], [lo[i] - temp[i] - 1 for i in range(len(lo))], size = c[len(c)-1])[1:]\n",
    "        \n",
    "        print('first input is ' + str(c[0:len(c)-1]))\n",
    "        print('second input is ' + str([lo[i] - temp[i] - 1 for i in range(len(lo))]))\n",
    "        print('I after aggregating is ' + str(I))\n",
    "        \n",
    "        # I = cumsum(I+1); % row indice\n",
    "        \n",
    "        I = np.cumsum([i + 1 for i in I])\n",
    "        \n",
    "        print('I after cummulation is ' + str(I))\n",
    "        # J = accumarray(c,1);\n",
    "        \n",
    "        J = npg.aggregate(c, 1)[1:]; \n",
    "        \n",
    "        print('J after aggregation is ' + str(J))\n",
    "        \n",
    "        # J(1) = 1 + max(k,0); % The row indices starts from this value\n",
    "        \n",
    "        J[0] = 1 + max(k,0)\n",
    "        \n",
    "        # J = cumsum(J(1:end-1)); % column indice\n",
    "        \n",
    "        J = np.cumsum(J[0:len(J)-1])\n",
    "        \n",
    "        print('J after cummulation is ' + str(J))\n",
    "    # end\n",
    "    \n",
    "        \n",
    "        \n",
    "    # if nargout<2\n",
    "    # % convert to linear indices\n",
    "        # I = sub2ind([m n], I, J);\n",
    "    # end\n",
    "    \n",
    "        if k == 0:\n",
    "            I = [i - 1 for i in I]\n",
    "            J = [j - 1 for j in J]\n",
    "            I = np.ravel_multi_index([J,I], [m,n])\n",
    "\n",
    "    return(I)"
   ]
  },
  {
   "cell_type": "code",
   "execution_count": 84,
   "id": "a836d47f",
   "metadata": {},
   "outputs": [
    {
     "name": "stdout",
     "output_type": "stream",
     "text": [
      "lo is [1, 1, 1, 1]\n",
      "hi is [1, 2, 3, 4]\n",
      "c is [ 1  2  4  7 11]\n",
      "temp1 is [0, 1, 2, 3]\n",
      "first input is [1 2 4 7]\n",
      "second input is [0, -1, -2, -3]\n",
      "I after aggregating is [ 0 -1  0 -2  0  0 -3  0  0  0]\n",
      "I after cummulation is [1 1 2 1 2 3 1 2 3 4]\n",
      "J after aggregation is [1 1 0 1 0 0 1 0 0 0 1]\n",
      "J after cummulation is [1 2 2 3 3 3 4 4 4 4]\n"
     ]
    },
    {
     "data": {
      "text/plain": [
       "array([ 0,  4,  5,  8,  9, 10, 12, 13, 14, 15])"
      ]
     },
     "execution_count": 84,
     "metadata": {},
     "output_type": "execute_result"
    }
   ],
   "source": [
    "itriu([4,4])"
   ]
  },
  {
   "cell_type": "code",
   "execution_count": 57,
   "id": "6443da4e",
   "metadata": {},
   "outputs": [
    {
     "ename": "TypeError",
     "evalue": "'<' not supported between instances of 'list' and 'int'",
     "output_type": "error",
     "traceback": [
      "\u001b[0;31m---------------------------------------------------------------------------\u001b[0m",
      "\u001b[0;31mTypeError\u001b[0m                                 Traceback (most recent call last)",
      "Input \u001b[0;32mIn [57]\u001b[0m, in \u001b[0;36m<module>\u001b[0;34m\u001b[0m\n\u001b[1;32m      1\u001b[0m L \u001b[38;5;241m=\u001b[39m [\u001b[38;5;241m1\u001b[39m,\u001b[38;5;241m2\u001b[39m,\u001b[38;5;241m4\u001b[39m,\u001b[38;5;241m7\u001b[39m]\n\u001b[0;32m----> 2\u001b[0m L[\u001b[43mL\u001b[49m\u001b[43m \u001b[49m\u001b[38;5;241;43m<\u001b[39;49m\u001b[43m \u001b[49m\u001b[38;5;241;43m3\u001b[39;49m]\n",
      "\u001b[0;31mTypeError\u001b[0m: '<' not supported between instances of 'list' and 'int'"
     ]
    }
   ],
   "source": [
    "L = [1,2,4,7]\n",
    "L[L < 3]"
   ]
  }
 ],
 "metadata": {
  "kernelspec": {
   "display_name": "Python 3 (ipykernel)",
   "language": "python",
   "name": "python3"
  },
  "language_info": {
   "codemirror_mode": {
    "name": "ipython",
    "version": 3
   },
   "file_extension": ".py",
   "mimetype": "text/x-python",
   "name": "python",
   "nbconvert_exporter": "python",
   "pygments_lexer": "ipython3",
   "version": "3.9.7"
  }
 },
 "nbformat": 4,
 "nbformat_minor": 5
}
