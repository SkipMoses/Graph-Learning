{
 "cells": [
  {
   "cell_type": "code",
   "execution_count": 1,
   "id": "ee8dc570",
   "metadata": {},
   "outputs": [],
   "source": [
    "import numpy as np"
   ]
  },
  {
   "cell_type": "markdown",
   "id": "a4f14aea",
   "metadata": {},
   "source": [
    "## Half Vectorization \n",
    "\n",
    "\n",
    "#### README.txt\n",
    "\n",
    "For a symmetric matrix A, A(:) (full \"vectorization\") contains more \n",
    "information than is strictly necessary, since the matrix is completely \n",
    "determined by the symmetry together with the lower triangular portion, \n",
    "that is, the n(n+1)/2 entries on and below the main diagonal. The \n",
    "half-vectorization, built as following with the package:\n",
    "\n",
    "A(itril(size(A))), \n",
    "of a symmetric n◊n matrix A is the n(n+1)/2 ◊ 1 column vector obtained by \n",
    "\"vectorizing\" only the lower triangular part of A.\n",
    "\n",
    "This package provides functions for conveniently indexing the triangular\n",
    "parts (both lower and upper) parts as well as the diagonals of the matrix.\n",
    "\n",
    "It also provides the so called Duplication and Elimination matrices which\n",
    "is used to convert between full and half-vectorization of the matrix.\n",
    "\n",
    "See: http://en.wikipedia.org/wiki/Vectorization_(mathematics)\n",
    "\n",
    "Please take a look at the script testprog.m to get an idea how the package\n",
    "works."
   ]
  },
  {
   "cell_type": "markdown",
   "id": "75b9a663",
   "metadata": {},
   "source": [
    "\n",
    "## itriu.m\n",
    "\n",
    "This function returns the subindices for extracting the upper/lower triangular part of a matrix. \n",
    "\n",
    "For example \n",
    "\n",
    "$A = \\begin{bmatrix}\n",
    "7&5&4\\\\\n",
    "4&2&3\\\\\n",
    "9&1&9\\\\\n",
    "3&5&7\n",
    "\\end{bmatrix}$\n",
    "\n",
    "then $I = itriu(size(A))$ returns $I = [1,5,6,9,10,11]$ and \n",
    "\n",
    "$A(I) = [7,5,2,4,3,9]$."
   ]
  },
  {
   "cell_type": "code",
   "execution_count": null,
   "id": "ceef6c1f",
   "metadata": {},
   "outputs": [],
   "source": [
    "# Python implementation of sub2ind found here\n",
    "# https://stackoverflow.com/questions/28995146/matlab-ind2sub-equivalent-in-python\n",
    "def sub2ind(array_shape, rows, cols):\n",
    "    ind = rows*array_shape[1] + cols\n",
    "    ind[ind < 0] = -1\n",
    "    ind[ind >= array_shape[0]*array_shape[1]] = -1\n",
    "    return ind\n",
    "\n",
    "def itriu(sz, k = 0):\n",
    "    \n",
    "    # if isscalar(sz)\n",
    "        # sz = [sz sz];\n",
    "    # end\n",
    "    # m=sz(1);\n",
    "    # n=sz(2);\n",
    "    \n",
    "    # Python implementation\n",
    "    if np.isscalar(sz):\n",
    "        sz = [sz, sz]\n",
    "    m = sz[0]\n",
    "    n = sz[1]\n",
    "    \n",
    "    # Main Diagonal by default\n",
    "    # if nargin<2\n",
    "        # k=0;\n",
    "    # end\n",
    "    # This is taken care of with default argument k = 0\n",
    "    \n",
    "    # nc = n-max(k,0); % number of columns of the triangular part\n",
    "    \n",
    "    nc = n - max(k,0)\n",
    "    \n",
    "    # lo = ones(nc,1); % lower row indice for each column\n",
    "    \n",
    "    lo = np.ones(nc, 1)\n",
    "    \n",
    "    # hi = min((1:nc).'-min(k,0),m); % upper row indice for each column\n",
    "    \n",
    "    hi = [min(i - min(k,0), m) for i in range(1,nc+1)]\n",
    "    \n",
    "    # if isempty(lo)\n",
    "        # I = zeros(0,1);\n",
    "        # J = zeros(0,1);\n",
    "    \n",
    "    if len(lo) == 0: \n",
    "        I = np.zeros(0,1)\n",
    "        J = np.zeros(0,1)\n",
    "    \n",
    "    # else\n",
    "        # c=cumsum([0; hi-lo]+1); % cumsum of the length\n",
    "        \n",
    "        temp = [1] + [hi[i] - lo[i] + 1 for i in range(len(hi))]\n",
    "        c = np.cumsum(temp)\n",
    "        \n",
    "        # I = accumarray(c(1:end-1), (lo-[0; hi(1:end-1)]-1), ... [c(end)-1 1]);\n",
    "        # I = cumsum(I+1); % row indice\n",
    "        # J = accumarray(c,1);\n",
    "        # J(1) = 1 + max(k,0); % The row indices starts from this value\n",
    "        # J = cumsum(J(1:end-1)); % column indice\n",
    "    # end\n",
    "    \n",
    "    else:\n",
    "        \n",
    "        \n",
    "    # if nargout<2\n",
    "    # % convert to linear indices\n",
    "        # I = sub2ind([m n], I, J);\n",
    "    # end\n",
    "    \n",
    "    if k == 0;\n",
    "        I = sub2ind([m,n], I, J)\n",
    "\n",
    "    return([I,J])"
   ]
  },
  {
   "cell_type": "code",
   "execution_count": 10,
   "id": "a836d47f",
   "metadata": {},
   "outputs": [
    {
     "data": {
      "text/plain": [
       "[1, 2, 3, 4, 5, 6, 6]"
      ]
     },
     "execution_count": 10,
     "metadata": {},
     "output_type": "execute_result"
    }
   ],
   "source": [
    "hi = [min(i - min(-1,0), 6) for i in range(1,6+1)]\n",
    "[1] + hi "
   ]
  }
 ],
 "metadata": {
  "kernelspec": {
   "display_name": "Python 3 (ipykernel)",
   "language": "python",
   "name": "python3"
  },
  "language_info": {
   "codemirror_mode": {
    "name": "ipython",
    "version": 3
   },
   "file_extension": ".py",
   "mimetype": "text/x-python",
   "name": "python",
   "nbconvert_exporter": "python",
   "pygments_lexer": "ipython3",
   "version": "3.9.10"
  }
 },
 "nbformat": 4,
 "nbformat_minor": 5
}
