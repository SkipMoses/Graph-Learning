{
 "cells": [
  {
   "cell_type": "code",
   "execution_count": 1,
   "id": "80c90a68",
   "metadata": {},
   "outputs": [],
   "source": [
    "import graph_learning_gaussian as glg\n",
    "import scipy.io"
   ]
  },
  {
   "cell_type": "code",
   "execution_count": 2,
   "id": "11387d42",
   "metadata": {},
   "outputs": [],
   "source": [
    "# Noisy signals over Erdos Reyni graph from main_gaussian_new.m \n",
    "# and parameters used.\n",
    "X_noisy = scipy.io.loadmat('../test_signals/X_noisy.mat')['X_noisy']\n",
    "param = {'N':20, 'max_iter':50, 'alpha':0.01, 'beta':0.631}"
   ]
  },
  {
   "cell_type": "code",
   "execution_count": 3,
   "id": "b673bccf",
   "metadata": {},
   "outputs": [
    {
     "name": "stdout",
     "output_type": "stream",
     "text": [
      "arg1 shape is (20, 100)\n",
      "R shape is (20, 20)\n"
     ]
    },
    {
     "name": "stderr",
     "output_type": "stream",
     "text": [
      "C:\\Users\\jguo2\\Graph-Learning\\Scripts\\gl_sig_rep\\graph_learning_gaussian.py:28: FutureWarning: `rcond` parameter will change to the default of machine precision times ``max(M, N)`` where M and N are the input matrix dimensions.\n",
      "To use the future default and silence this warning we advise to pass `rcond=None`, to keep using the old, explicitly pass `rcond=-1`.\n",
      "  arg1 = np.linalg.lstsq(Rt, Y_0)[0]\n",
      "C:\\Users\\jguo2\\Graph-Learning\\Scripts\\gl_sig_rep\\graph_learning_gaussian.py:31: FutureWarning: `rcond` parameter will change to the default of machine precision times ``max(M, N)`` where M and N are the input matrix dimensions.\n",
      "To use the future default and silence this warning we advise to pass `rcond=None`, to keep using the old, explicitly pass `rcond=-1`.\n",
      "  Y = np.linalg.lstsq(R, arg1)[0]\n"
     ]
    }
   ],
   "source": [
    "L, Y = glg.graph_learning_gaussian(X_noisy, param)"
   ]
  },
  {
   "cell_type": "code",
   "execution_count": 4,
   "id": "c4ee3404",
   "metadata": {},
   "outputs": [],
   "source": [
    "# Learned laplacian from matlab implementation\n",
    "ML = scipy.io.loadmat('../test_signals/matlab_L.mat')['L']\n",
    "\n",
    "# Learned Y from matlab implementation\n",
    "MY = scipy.io.loadmat('../test_signals/matlab_Y.mat')['Y']"
   ]
  },
  {
   "cell_type": "code",
   "execution_count": 5,
   "id": "a5cdd6cc",
   "metadata": {},
   "outputs": [],
   "source": [
    "diff_L = abs(L-ML)\n",
    "diff_Y = abs(Y-MY)"
   ]
  },
  {
   "cell_type": "code",
   "execution_count": 6,
   "id": "74bc2696",
   "metadata": {},
   "outputs": [
    {
     "name": "stdout",
     "output_type": "stream",
     "text": [
      "0.006026402736776071\n"
     ]
    }
   ],
   "source": [
    "temp = []\n",
    "for i in diff_L:\n",
    "    for j in i:\n",
    "        temp.append(j)\n",
    "print(max(temp))"
   ]
  },
  {
   "cell_type": "code",
   "execution_count": 7,
   "id": "9503f443",
   "metadata": {},
   "outputs": [
    {
     "name": "stdout",
     "output_type": "stream",
     "text": [
      "0.0003832732997798849\n"
     ]
    }
   ],
   "source": [
    "temp = []\n",
    "for i in diff_Y:\n",
    "    for j in i:\n",
    "        temp.append(j)\n",
    "print(max(temp))"
   ]
  }
 ],
 "metadata": {
  "kernelspec": {
   "display_name": "Python 3 (ipykernel)",
   "language": "python",
   "name": "python3"
  },
  "language_info": {
   "codemirror_mode": {
    "name": "ipython",
    "version": 3
   },
   "file_extension": ".py",
   "mimetype": "text/x-python",
   "name": "python",
   "nbconvert_exporter": "python",
   "pygments_lexer": "ipython3",
   "version": "3.9.10"
  }
 },
 "nbformat": 4,
 "nbformat_minor": 5
}
