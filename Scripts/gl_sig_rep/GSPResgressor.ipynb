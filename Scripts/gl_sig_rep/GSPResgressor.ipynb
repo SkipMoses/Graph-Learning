{
 "cells": [
  {
   "cell_type": "code",
   "execution_count": 75,
   "id": "c472fa8d",
   "metadata": {},
   "outputs": [],
   "source": [
    "import numpy as np\n",
    "import numpy_groupies as npg\n",
    "import scipy.sparse as sps\n",
    "import numpy.matlib as npm\n",
    "import cvxpy as cp\n",
    "import scipy.io\n",
    "import networkx as nx\n",
    "import matplotlib.pyplot as plt\n",
    "import optimize_laplacian_gaussian as ogl\n",
    "import Metrics \n",
    "import SyntheticDataGenerator as SDG"
   ]
  },
  {
   "cell_type": "code",
   "execution_count": 41,
   "id": "720ed38a",
   "metadata": {},
   "outputs": [],
   "source": [
    "def graph_learning_gaussian_regressor(X_noisy, param):\n",
    "    \n",
    "    N = param['N']\n",
    "    max_iter = param['max_iter']\n",
    "    alpha = param['alpha']\n",
    "    beta = param['beta']\n",
    "\n",
    "    objective = [0]*max_iter\n",
    "    Y_0 = X_noisy\n",
    "    Y = Y_0\n",
    "    R = np.zeros(Y.shape)\n",
    "    for i in range(max_iter):\n",
    "        \n",
    "        # Step 1: given Y and R, update L\n",
    "        # This is the same as Step 1 of Dong's algorithm\n",
    "        # with Y = Y-R\n",
    "        L = ogl.optimize_laplacian_gaussian(N,(Y-R),alpha,beta)\n",
    "        \n",
    "        # Step 2: given L and R, update Y\n",
    "        # Note if we expand the quadratic form \n",
    "        # we get a constant term with L and R, so\n",
    "        # the optimization is identical to Dong's second\n",
    "        # Step.\n",
    "        temp = np.linalg.cholesky(np.identity(N) + alpha*L)\n",
    "        temp_t = np.transpose(temp)\n",
    "        arg1 = np.linalg.lstsq(temp_t, (Y_0-R))[0]\n",
    "        Y = np.linalg.lstsq(temp, arg1)[0]\n",
    "        \n",
    "        # Step 3: Given L and Y, update R\n",
    "        R = Y_0 - Y\n",
    "        # Store objective\n",
    "        arg1 = np.linalg.norm(Y_0 - (Y+R), 'fro')**2 \n",
    "        arg2 = alpha*np.trace(np.transpose(Y)@L@Y)\n",
    "        arg3 = beta*np.linalg.norm(L, 'fro')**2\n",
    "        objective[i] = arg1 + arg2 + arg3\n",
    "        \n",
    "        # Stopping criteria\n",
    "        if i>=2 and abs(objective(i) - objective(i-1)) < 10**(-4):\n",
    "            print(str(i) + ' iterations needed to converge.')\n",
    "            break\n",
    "        return([L.round(4), Y.round(4), R.round(4)])\n",
    "# Generates Synthetic data following Dongs Model\n",
    "# with an added regression term\n",
    "# Generate an num_signalsXnum_Vertices matrix of synthetic data\n",
    "# over a graph G following Dong's model. \n",
    "# mu := mean; sigma := standard deviation\n",
    "def RandomRegressorSignal(graph, mu, sigma, b, P, seed):\n",
    "    # The Graph Laplacian\n",
    "    L = nx.laplacian_matrix(graph).toarray()\n",
    "    \n",
    "    # The number of vertices\n",
    "    size = L.shape[0]\n",
    "    \n",
    "    if(size != P[0].shape[0]):\n",
    "        print(\"Number vertices does not equal number of rows in P.\")\n",
    "        return\n",
    "    if(P[0].shape[1] != b.shape[0]):\n",
    "        print(\"Number of columns of P[i] is not equal to number of rows of b.\")\n",
    "        return\n",
    "    \n",
    "    # Normalized Laplacian ie tr(L) = num_vertices\n",
    "    NormL = (size/np.trace(L))*L\n",
    "    \n",
    "    # Moore Penrose Psudoinverse\n",
    "    MPPI = np.linalg.pinv(NormL, hermitian= True)\n",
    "    \n",
    "    # Vector of means\n",
    "    mean = mu*np.ones(size)\n",
    "    \n",
    "    # Matrix of standard deviation\n",
    "    stan_dev = MPPI + sigma*np.diag(np.ones(size))\n",
    "    X = []\n",
    "    np.random.seed(seed)\n",
    "        \n",
    "    # Create random regression coefficients \n",
    "    #b = np.random.rand(observations,)\n",
    "    #b = np.full(shape=observations, fill_value=1, dtype=np.int)\n",
    "    for i in range(len(P)):\n",
    "        np.random.seed(seed + i)\n",
    "        signal = np.random.multivariate_normal(mean, stan_dev) + P[i]@b\n",
    "        X.append(signal.tolist())\n",
    "    return np.matrix(np.transpose(X))\n",
    "\n",
    "# Generates synthetic data of a specific distribution\n",
    "# num_observations: Length of the column\n",
    "# distribution:     (string) Type of distribution \n",
    "# parameters:       (string) Parameters for the distribution \n",
    "# Example:          generate_data_type(1,1,'uniform', '0,1')\n",
    "def generate_data_type(num_observation, distribution, parameters, seed):\n",
    "    rand = np.random.RandomState(seed)\n",
    "    data_table = []\n",
    "    x = eval('rand.'+distribution+'('+parameters+', '+str(num_observation)+')')\n",
    "    x = [i for i in x]\n",
    "    data_table.append(x)\n",
    "    return(np.transpose(np.matrix(data_table)))\n",
    "\n",
    "# Uses generate_data_type to create synthetic data for numerous \n",
    "# distributions\n",
    "# num_observations: (Int) Length of a row in the table\n",
    "# predictors_vec:   (list<int>) Number of predictors of a given distribution\n",
    "# type.\n",
    "# distributions:    (list<str>) List of the distribution types in the data\n",
    "# parameters:       (list<list><str>) List of parameters for corresponding distirbution\n",
    "def generate_experiment(num_observations, distributions, parameters, seed):\n",
    "    s = seed\n",
    "    M_shape = (num_observations, sum([len(i) for i in parameters]))\n",
    "    Ptemp = [i for i in parameters]\n",
    "    M = generate_data_type(num_observations, distributions[0], Ptemp[0][0], s)\n",
    "    Ptemp[0] = Ptemp[0][1:len(Ptemp)]\n",
    "    for i in range(len(Ptemp)):\n",
    "        for p in Ptemp[i]:\n",
    "            s = s + 1\n",
    "            temp = generate_data_type(num_observations, distributions[i], p, s)\n",
    "            M = np.concatenate((M,temp))\n",
    "    M = np.reshape(M, M_shape, 'F')\n",
    "    return(M)\n",
    "def generate_trials(num_observations, num_trials, distributions, parameters, seed):\n",
    "    s = seed\n",
    "    T = []\n",
    "    for i in range(num_trials):\n",
    "        P = generate_experiment(num_observations, distributions, parameters, s)\n",
    "        T.append(P)\n",
    "    return(T)"
   ]
  },
  {
   "cell_type": "code",
   "execution_count": 17,
   "id": "4fe12c15",
   "metadata": {},
   "outputs": [],
   "source": [
    "seed = 123\n",
    "num_obser = 20\n",
    "num_trials = 100\n",
    "G = nx.erdos_renyi_graph(num_obser, 0.2)\n",
    "# dist_vec = ['uniform', 'normal', 'binomial']\n",
    "dist_vec = ['uniform']\n",
    "# param_vec = [['0,1'], ['0,.5', '0,.5'], ['1,.5']]\n",
    "param_vec = [['0,1']]\n",
    "P = generate_trials(num_obser, num_trials, dist_vec, param_vec, seed)\n",
    "b = np.ones(1)\n",
    "S2 = RandomRegressorSignal(G, 0, .5, b, P, seed)"
   ]
  },
  {
   "cell_type": "code",
   "execution_count": 18,
   "id": "09b72da0",
   "metadata": {
    "scrolled": true
   },
   "outputs": [
    {
     "data": {
      "text/plain": [
       "(20, 100)"
      ]
     },
     "execution_count": 18,
     "metadata": {},
     "output_type": "execute_result"
    }
   ],
   "source": [
    "S2.shape"
   ]
  },
  {
   "cell_type": "code",
   "execution_count": 95,
   "id": "b1062f27",
   "metadata": {
    "scrolled": true
   },
   "outputs": [
    {
     "name": "stderr",
     "output_type": "stream",
     "text": [
      "/var/folders/67/f2dp8r654975vdx0kkbx_fmr0000gn/T/ipykernel_72661/239592756.py:26: FutureWarning: `rcond` parameter will change to the default of machine precision times ``max(M, N)`` where M and N are the input matrix dimensions.\n",
      "To use the future default and silence this warning we advise to pass `rcond=None`, to keep using the old, explicitly pass `rcond=-1`.\n",
      "  arg1 = np.linalg.lstsq(temp_t, (Y_0-R))[0]\n",
      "/var/folders/67/f2dp8r654975vdx0kkbx_fmr0000gn/T/ipykernel_72661/239592756.py:27: FutureWarning: `rcond` parameter will change to the default of machine precision times ``max(M, N)`` where M and N are the input matrix dimensions.\n",
      "To use the future default and silence this warning we advise to pass `rcond=None`, to keep using the old, explicitly pass `rcond=-1`.\n",
      "  Y = np.linalg.lstsq(temp, arg1)[0]\n"
     ]
    }
   ],
   "source": [
    "param = {'N': 20, 'max_iter':20, 'alpha':.2, 'beta':10} \n",
    "results = graph_learning_gaussian_regressor(S2, param)"
   ]
  },
  {
   "cell_type": "code",
   "execution_count": 96,
   "id": "2e8f69d0",
   "metadata": {},
   "outputs": [],
   "source": [
    "est_L = results[0]\n",
    "L_ER = nx.laplacian_matrix(G).toarray()\n",
    "gt_L = (L_ER.shape[0]/np.trace(L_ER))*L_ER"
   ]
  },
  {
   "cell_type": "code",
   "execution_count": 78,
   "id": "1741b5f4",
   "metadata": {},
   "outputs": [
    {
     "data": {
      "image/png": "[encoded data removed]",
      "text/plain": [
       "<Figure size 432x288 with 2 Axes>"
      ]
     },
     "metadata": {
      "needs_background": "light"
     },
     "output_type": "display_data"
    }
   ],
   "source": [
    "plt.imshow(gt_L, cmap='jet', interpolation='nearest')\n",
    "plt.colorbar()\n",
    "plt.show()"
   ]
  },
  {
   "cell_type": "code",
   "execution_count": 97,
   "id": "d81be057",
   "metadata": {
    "scrolled": true
   },
   "outputs": [
    {
     "data": {
      "image/png": "[encoded data removed]",
      "text/plain": [
       "<Figure size 432x288 with 2 Axes>"
      ]
     },
     "metadata": {
      "needs_background": "light"
     },
     "output_type": "display_data"
    }
   ],
   "source": [
    "plt.imshow(est_L, cmap='jet', interpolation='nearest')\n",
    "plt.colorbar()\n",
    "plt.show()"
   ]
  },
  {
   "cell_type": "code",
   "execution_count": 100,
   "id": "25251c96",
   "metadata": {
    "scrolled": true
   },
   "outputs": [
    {
     "data": {
      "text/plain": [
       "{'Precision': 0.5833333333333334,\n",
       " 'Recall': 0.875,\n",
       " 'F-Measure': 0.7000000000000001,\n",
       " 'Relative Error': 0.38830560727364966,\n",
       " 'SSE': 0.15078124464015785}"
      ]
     },
     "execution_count": 100,
     "metadata": {},
     "output_type": "execute_result"
    }
   ],
   "source": [
    "Metrics.ComputeMetrics(est_L, gt_L, .01)"
   ]
  },
  {
   "cell_type": "code",
   "execution_count": 117,
   "id": "73b0e425",
   "metadata": {
    "scrolled": true
   },
   "outputs": [
    {
     "name": "stderr",
     "output_type": "stream",
     "text": [
      "/var/folders/67/f2dp8r654975vdx0kkbx_fmr0000gn/T/ipykernel_72661/239592756.py:26: FutureWarning: `rcond` parameter will change to the default of machine precision times ``max(M, N)`` where M and N are the input matrix dimensions.\n",
      "To use the future default and silence this warning we advise to pass `rcond=None`, to keep using the old, explicitly pass `rcond=-1`.\n",
      "  arg1 = np.linalg.lstsq(temp_t, (Y_0-R))[0]\n",
      "/var/folders/67/f2dp8r654975vdx0kkbx_fmr0000gn/T/ipykernel_72661/239592756.py:27: FutureWarning: `rcond` parameter will change to the default of machine precision times ``max(M, N)`` where M and N are the input matrix dimensions.\n",
      "To use the future default and silence this warning we advise to pass `rcond=None`, to keep using the old, explicitly pass `rcond=-1`.\n",
      "  Y = np.linalg.lstsq(temp, arg1)[0]\n"
     ]
    }
   ],
   "source": [
    "A = np.linspace(0,1,100)\n",
    "B = np.linspace(1,100,100)\n",
    "metrics = dict()\n",
    "for a in A:\n",
    "    for b in B:\n",
    "        param = {'N': 20, 'max_iter':20, 'alpha':a, 'beta':b} \n",
    "        results = graph_learning_gaussian_regressor(S2, param)\n",
    "        est_L = results[0]\n",
    "        metrics[str(a)+ \", \" + str(b)] = Metrics.ComputeMetrics(est_L, gt_L, .01)"
   ]
  },
  {
   "cell_type": "code",
   "execution_count": 116,
   "id": "98000418",
   "metadata": {},
   "outputs": [],
   "source": [
    "pairs = []\n",
    "for a in A:\n",
    "    for b in B:\n",
    "        pairs.append(str(a)+ \", \" + str(b)) "
   ]
  },
  {
   "cell_type": "code",
   "execution_count": 118,
   "id": "bec2afa7",
   "metadata": {},
   "outputs": [],
   "source": [
    "fmeasure = [(metrics[i]['F-Measure'], i) for i in pairs]"
   ]
  },
  {
   "cell_type": "code",
   "execution_count": 121,
   "id": "2863bf1a",
   "metadata": {},
   "outputs": [],
   "source": [
    "fmeasure.sort()"
   ]
  },
  {
   "cell_type": "code",
   "execution_count": 129,
   "id": "24834873",
   "metadata": {
    "scrolled": false
   },
   "outputs": [
    {
     "name": "stdout",
     "output_type": "stream",
     "text": [
      "0.9595959595959597, 42.0\n"
     ]
    },
    {
     "data": {
      "text/plain": [
       "{'Precision': 0.6181818181818182,\n",
       " 'Recall': 0.85,\n",
       " 'F-Measure': 0.7157894736842104,\n",
       " 'Relative Error': 0.4039923088489337,\n",
       " 'SSE': 0.16320978560909224}"
      ]
     },
     "execution_count": 129,
     "metadata": {},
     "output_type": "execute_result"
    }
   ],
   "source": [
    "print(fmeasure[len(fmeasure)-1][1])\n",
    "metrics[fmeasure[len(fmeasure)-1][1]]"
   ]
  },
  {
   "cell_type": "code",
   "execution_count": 148,
   "id": "f6ca9a2a",
   "metadata": {},
   "outputs": [],
   "source": [
    "def f(x,y):\n",
    "    return(metrics[str(x) + \", \" +str(y)]['F-Measure'])"
   ]
  },
  {
   "cell_type": "code",
   "execution_count": 151,
   "id": "691e75b8",
   "metadata": {},
   "outputs": [
    {
     "data": {
      "text/plain": [
       "(100, 100)"
      ]
     },
     "execution_count": 151,
     "metadata": {},
     "output_type": "execute_result"
    }
   ],
   "source": [
    "Z = []\n",
    "for a in A:\n",
    "    row = [metrics[str(a) + ', ' + str(b)]['F-Measure'] for b in B]\n",
    "    Z.append(row)   \n",
    "Z = np.array(Z)\n",
    "Z.shape"
   ]
  },
  {
   "cell_type": "code",
   "execution_count": 161,
   "id": "8ca87529",
   "metadata": {
    "scrolled": true
   },
   "outputs": [
    {
     "data": {
      "image/png": "[encoded data removed]",
      "text/plain": [
       "<Figure size 432x288 with 1 Axes>"
      ]
     },
     "metadata": {
      "needs_background": "light"
     },
     "output_type": "display_data"
    }
   ],
   "source": [
    "fig = plt.figure()\n",
    "ax = plt.axes(projection='3d')\n",
    "ax.plot_surface(X, Y, Z, rstride=1, cstride=1,\n",
    "                cmap='jet', edgecolor='none')\n",
    "ax.view_init(16, 20)\n",
    "ax.set_title('wireframe');"
   ]
  }
 ],
 "metadata": {
  "kernelspec": {
   "display_name": "Python 3 (ipykernel)",
   "language": "python",
   "name": "python3"
  },
  "language_info": {
   "codemirror_mode": {
    "name": "ipython",
    "version": 3
   },
   "file_extension": ".py",
   "mimetype": "text/x-python",
   "name": "python",
   "nbconvert_exporter": "python",
   "pygments_lexer": "ipython3",
   "version": "3.9.10"
  }
 },
 "nbformat": 4,
 "nbformat_minor": 5
}
